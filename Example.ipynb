{
 "cells": [
  {
   "cell_type": "markdown",
   "id": "postal-skill",
   "metadata": {},
   "source": [
    "## Imports"
   ]
  },
  {
   "cell_type": "code",
   "execution_count": null,
   "id": "reduced-radio",
   "metadata": {},
   "outputs": [],
   "source": [
    "import matplotlib.pyplot as plt\n",
    "\n",
    "from utils import read_tables, plot_indicator\n",
    "from preprocessing import Normalize, Smooth, Transform\n",
    "from statistics import ks_statistic, U_statistic, Z_statistic, print_statistic"
   ]
  },
  {
   "cell_type": "markdown",
   "id": "cosmetic-master",
   "metadata": {},
   "source": [
    "## Tables Reading"
   ]
  },
  {
   "cell_type": "code",
   "execution_count": null,
   "id": "monthly-teaching",
   "metadata": {},
   "outputs": [],
   "source": [
    "tables = read_tables('./USA')"
   ]
  },
  {
   "cell_type": "markdown",
   "id": "surprising-discretion",
   "metadata": {},
   "source": [
    "## Transforms"
   ]
  },
  {
   "cell_type": "code",
   "execution_count": null,
   "id": "stone-basic",
   "metadata": {},
   "outputs": [],
   "source": [
    "transform = Transform([Normalize(), Smooth(weight=0.4)])"
   ]
  },
  {
   "cell_type": "markdown",
   "id": "judicial-employment",
   "metadata": {},
   "source": [
    "## Indicator Plotting"
   ]
  },
  {
   "cell_type": "code",
   "execution_count": null,
   "id": "numeric-sense",
   "metadata": {},
   "outputs": [],
   "source": [
    "fig, ax = plt.subplots(nrows=1, ncols=1, figsize=(12, 8))\n",
    "plot_indicator(ax, tables, region='Alaska', indicator='Employment Rate', transform=transform,\n",
    "               color='black', save=False)\n",
    "plt.show()"
   ]
  },
  {
   "cell_type": "code",
   "execution_count": null,
   "id": "demographic-prerequisite",
   "metadata": {},
   "outputs": [],
   "source": [
    "fig, axes = plt.subplots(nrows=3, ncols=2, figsize=(18, 20))\n",
    "\n",
    "for i in range(3):\n",
    "    for j in range(2):\n",
    "        plot_indicator(axes[i, j], tables, list(tables.keys())[2*i + j], 'Unemployment Rate', transform=transform)\n",
    "\n",
    "plt.show()"
   ]
  },
  {
   "cell_type": "markdown",
   "id": "black-operator",
   "metadata": {},
   "source": [
    "## Statistics Calculation"
   ]
  },
  {
   "cell_type": "code",
   "execution_count": null,
   "id": "natural-spell",
   "metadata": {},
   "outputs": [],
   "source": [
    "regions = ['Alaska', 'Wyoming']\n",
    "indicator = 'Unemployment Rate'"
   ]
  },
  {
   "cell_type": "code",
   "execution_count": null,
   "id": "cosmetic-cancellation",
   "metadata": {},
   "outputs": [],
   "source": [
    "kolmogorov_statistic = ks_statistic(tables,\n",
    "                                    regions,\n",
    "                                    indicator,\n",
    "                                    transform=transform)\n",
    "\n",
    "mann_statistic = U_statistic(tables,\n",
    "                             regions,\n",
    "                             indicator,\n",
    "                             transform=transform,\n",
    "                             alternative='less')\n",
    "\n",
    "z_stat = Z_statistic(mann_statistic,\n",
    "                     size=(len(tables[regions[0]][indicator]), len(tables[regions[1]][indicator])))"
   ]
  },
  {
   "cell_type": "code",
   "execution_count": null,
   "id": "phantom-egypt",
   "metadata": {},
   "outputs": [],
   "source": [
    "print('Kolmogorov-Smirnov statistic:')\n",
    "print_statistic(regions, kolmogorov_statistic)\n",
    "print()\n",
    "\n",
    "print('Mann-Whitneyu (U) statistic:')\n",
    "print_statistic(regions, mann_statistic)\n",
    "print()\n",
    "\n",
    "print('Z statistic:')\n",
    "print_statistic(regions, z_stat)"
   ]
  }
 ],
 "metadata": {
  "kernelspec": {
   "display_name": "Python 3",
   "language": "python",
   "name": "python3"
  },
  "language_info": {
   "codemirror_mode": {
    "name": "ipython",
    "version": 3
   },
   "file_extension": ".py",
   "mimetype": "text/x-python",
   "name": "python",
   "nbconvert_exporter": "python",
   "pygments_lexer": "ipython3",
   "version": "3.7.4"
  }
 },
 "nbformat": 4,
 "nbformat_minor": 5
}
